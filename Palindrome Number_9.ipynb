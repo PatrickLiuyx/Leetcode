{
 "cells": [
  {
   "cell_type": "markdown",
   "metadata": {},
   "source": [
    "# Palindrome Number\n",
    "Determine whether an integer is a palindrome. An integer is a palindrome when it reads the same backward as forward.<br><br>\n",
    "\n",
    "Example 1:<br>\n",
    "Input: 121<br>\n",
    "Output: true<br><br>\n",
    "Example 2:<br>\n",
    "Input: -121<br>\n",
    "Output: false<br>\n",
    "Explanation: From left to right, it reads -121. From right to left, it becomes 121-. Therefore it is not a palindrome.<br><br>\n",
    "Example 3:<br>\n",
    "Input: 10<br>\n",
    "Output: false<br>\n",
    "Explanation: Reads 01 from right to left. Therefore it is not a palindrome.<br><br>\n",
    "Follow up:<br>\n",
    "Coud you solve it without converting the integer to a string?<br>"
   ]
  },
  {
   "cell_type": "code",
   "execution_count": 1,
   "metadata": {},
   "outputs": [],
   "source": [
    "class Solution:\n",
    "    def isPalindrome(self, x):\n",
    "        \"\"\"\n",
    "        :type x: int\n",
    "        :rtype: bool\n",
    "        \"\"\"\n",
    "        if x == 0:\n",
    "            return True\n",
    "        if x < 0 or x % 10 == 0:\n",
    "            return False\n",
    "        \n",
    "        \n",
    "        \n",
    "        y = 0\n",
    "        while x > y:\n",
    "            y = x % 10 + y * 10\n",
    "            x = x // 10\n",
    "            \n",
    "        if y // 10 == x or y == x:\n",
    "            return True\n",
    "        else:\n",
    "            return False"
   ]
  },
  {
   "cell_type": "code",
   "execution_count": null,
   "metadata": {},
   "outputs": [],
   "source": []
  },
  {
   "cell_type": "code",
   "execution_count": null,
   "metadata": {},
   "outputs": [],
   "source": []
  }
 ],
 "metadata": {
  "kernelspec": {
   "display_name": "Python 3",
   "language": "python",
   "name": "python3"
  },
  "language_info": {
   "codemirror_mode": {
    "name": "ipython",
    "version": 3
   },
   "file_extension": ".py",
   "mimetype": "text/x-python",
   "name": "python",
   "nbconvert_exporter": "python",
   "pygments_lexer": "ipython3",
   "version": "3.6.8"
  }
 },
 "nbformat": 4,
 "nbformat_minor": 2
}
