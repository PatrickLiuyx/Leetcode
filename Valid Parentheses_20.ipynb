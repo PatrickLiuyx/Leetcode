{
 "cells": [
  {
   "cell_type": "markdown",
   "metadata": {},
   "source": [
    "# Valid Parentheses\n",
    "Given a string containing just the characters '(', ')', '{', '}', '[' and ']', determine if the input string is valid.<br><br>\n",
    "\n",
    "An input string is valid if:<br>\n",
    "\n",
    "Open brackets must be closed by the same type of brackets.<br>\n",
    "Open brackets must be closed in the correct order.<br>\n",
    "Note that an empty string is also considered valid.<br>\n",
    "\n",
    "```python\n",
    "Example 1:\n",
    "Input: \"()\"\n",
    "Output: true\n",
    "    \n",
    "Example 2:\n",
    "Input: \"()[]{}\"\n",
    "Output: true\n",
    "    \n",
    "Example 3:\n",
    "Input: \"(]\"\n",
    "Output: false\n",
    "    \n",
    "Example 4:\n",
    "Input: \"([)]\"\n",
    "Output: false\n",
    "    \n",
    "Example 5:\n",
    "Input: \"{[]}\"\n",
    "Output: true\n",
    "```"
   ]
  },
  {
   "cell_type": "code",
   "execution_count": 1,
   "metadata": {},
   "outputs": [],
   "source": [
    "class Solution:\n",
    "    def isValid(self, s):\n",
    "        \"\"\"\n",
    "        :type s: str\n",
    "        :rtype: bool\n",
    "        \"\"\"\n",
    "        \n",
    "        from collections import deque\n",
    "        que = deque()\n",
    "        \n",
    "        para_dict ={'(':0,\n",
    "                   ')':0,\n",
    "                   '[':1,\n",
    "                   ']':1,\n",
    "                   '{':2,\n",
    "                   '}':2}\n",
    "        \n",
    "        for each in s:\n",
    "            if each not in [')', '}', ']']:\n",
    "                que.append(each)\n",
    "            else:\n",
    "                if len(que) == 0:\n",
    "                    return False\n",
    "                temp = que.pop()\n",
    "                if para_dict[each] != para_dict[temp]:\n",
    "                    return False\n",
    "                \n",
    "        if len(que) == 0:\n",
    "            return True\n",
    "        else:\n",
    "            return False"
   ]
  },
  {
   "cell_type": "code",
   "execution_count": null,
   "metadata": {},
   "outputs": [],
   "source": []
  },
  {
   "cell_type": "code",
   "execution_count": null,
   "metadata": {},
   "outputs": [],
   "source": []
  }
 ],
 "metadata": {
  "kernelspec": {
   "display_name": "Python 3",
   "language": "python",
   "name": "python3"
  },
  "language_info": {
   "codemirror_mode": {
    "name": "ipython",
    "version": 3
   },
   "file_extension": ".py",
   "mimetype": "text/x-python",
   "name": "python",
   "nbconvert_exporter": "python",
   "pygments_lexer": "ipython3",
   "version": "3.6.8"
  }
 },
 "nbformat": 4,
 "nbformat_minor": 2
}
