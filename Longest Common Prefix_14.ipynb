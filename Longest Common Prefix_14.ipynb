{
 "cells": [
  {
   "cell_type": "markdown",
   "metadata": {},
   "source": [
    "# Longest Common Prefix\n",
    "\n",
    "Write a function to find the longest common prefix string amongst an array of strings.<br><br>\n",
    "\n",
    "If there is no common prefix, return an empty string \"\".<br><br>\n",
    "\n",
    "```python\n",
    "Example 1:\n",
    "Input: [\"flower\",\"flow\",\"flight\"]\n",
    "Output: \"fl\"\n",
    "    \n",
    "Example 2:\n",
    "Input: [\"dog\",\"racecar\",\"car\"]\n",
    "Output: \"\"\n",
    "    \n",
    "```\n",
    "Explanation: There is no common prefix among the input strings.<br><br>\n",
    "\n",
    "Note:<br>\n",
    "All given inputs are in lowercase letters a-z.<br>"
   ]
  },
  {
   "cell_type": "code",
   "execution_count": 1,
   "metadata": {},
   "outputs": [],
   "source": [
    "class Solution:\n",
    "    def longestCommonPrefix(self, strs):\n",
    "        \"\"\"\n",
    "        :type strs: List[str]\n",
    "        :rtype: str\n",
    "        \"\"\"\n",
    "        \n",
    "        if len(strs) == 0:\n",
    "            return \"\"\n",
    "        if len(strs) == 1:\n",
    "            return strs[0]\n",
    "        \n",
    "        prefix = strs[0]\n",
    "        for i in range(1,len(strs)):\n",
    "            len_index = -1\n",
    "            \n",
    "            for j in range(len(strs[i])):\n",
    "                if j >= len(prefix):\n",
    "                    break\n",
    "                if strs[i][j] == prefix[j]:\n",
    "                    len_index += 1\n",
    "                else:\n",
    "                    break\n",
    "            if len_index == -1:\n",
    "                return \"\"\n",
    "            else:\n",
    "                prefix = prefix[0:(len_index+1)]\n",
    "                \n",
    "                \n",
    "        return prefix"
   ]
  },
  {
   "cell_type": "code",
   "execution_count": null,
   "metadata": {},
   "outputs": [],
   "source": []
  },
  {
   "cell_type": "code",
   "execution_count": null,
   "metadata": {},
   "outputs": [],
   "source": []
  }
 ],
 "metadata": {
  "kernelspec": {
   "display_name": "Python 3",
   "language": "python",
   "name": "python3"
  },
  "language_info": {
   "codemirror_mode": {
    "name": "ipython",
    "version": 3
   },
   "file_extension": ".py",
   "mimetype": "text/x-python",
   "name": "python",
   "nbconvert_exporter": "python",
   "pygments_lexer": "ipython3",
   "version": "3.6.8"
  }
 },
 "nbformat": 4,
 "nbformat_minor": 2
}
