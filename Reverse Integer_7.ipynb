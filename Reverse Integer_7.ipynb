{
 "cells": [
  {
   "cell_type": "markdown",
   "metadata": {},
   "source": [
    "# Reverse Integer\n",
    "Given a 32-bit signed integer, reverse digits of an integer.\n",
    "<br><br>\n",
    "Example 1:\n",
    "<br>\n",
    "Input: 123<br>\n",
    "Output: 321<br><br>\n",
    "Example 2:<br>\n",
    "Input: -123<br>\n",
    "Output: -321<br><br>\n",
    "Example 3:<br>\n",
    "Input: 120<br>\n",
    "Output: 21<br><br><br>\n",
    "Note:<br>\n",
    "Assume we are dealing with an environment which could only store integers within the 32-bit signed integer range: [−2^31,  2^31 − 1]. For the purpose of this problem, assume that your function returns 0 when the reversed integer overflows."
   ]
  },
  {
   "cell_type": "code",
   "execution_count": 1,
   "metadata": {},
   "outputs": [],
   "source": [
    "class Solution:\n",
    "    def reverse(self, x):\n",
    "        \"\"\"\n",
    "        :type x: int\n",
    "        :rtype: int\n",
    "        \"\"\"\n",
    "        if not (-2147483648 <= x <= 2147483647):\n",
    "            return 0\n",
    "        else:\n",
    "            if x > 0:\n",
    "                temp_re_str = \"\".join(reversed(str(x)))\n",
    "                temp_int = int(temp_re_str)\n",
    "            else:\n",
    "                temp_re_str = \"-\" + \"\".join(reversed(str(-x)))\n",
    "                temp_int = int(temp_re_str)\n",
    "        if not (-2147483648 <= temp_int <= 2147483647):\n",
    "            return 0    \n",
    "        return temp_int"
   ]
  },
  {
   "cell_type": "code",
   "execution_count": null,
   "metadata": {},
   "outputs": [],
   "source": []
  },
  {
   "cell_type": "code",
   "execution_count": null,
   "metadata": {},
   "outputs": [],
   "source": []
  }
 ],
 "metadata": {
  "kernelspec": {
   "display_name": "Python 3",
   "language": "python",
   "name": "python3"
  },
  "language_info": {
   "codemirror_mode": {
    "name": "ipython",
    "version": 3
   },
   "file_extension": ".py",
   "mimetype": "text/x-python",
   "name": "python",
   "nbconvert_exporter": "python",
   "pygments_lexer": "ipython3",
   "version": "3.6.8"
  }
 },
 "nbformat": 4,
 "nbformat_minor": 2
}
